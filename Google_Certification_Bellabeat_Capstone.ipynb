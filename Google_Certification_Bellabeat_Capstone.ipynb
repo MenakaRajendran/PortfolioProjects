{
  "metadata": {
    "kernelspec": {
      "language": "python",
      "display_name": "Python 3",
      "name": "python3"
    },
    "language_info": {
      "name": "python",
      "version": "3.10.13",
      "mimetype": "text/x-python",
      "codemirror_mode": {
        "name": "ipython",
        "version": 3
      },
      "pygments_lexer": "ipython3",
      "nbconvert_exporter": "python",
      "file_extension": ".py"
    },
    "kaggle": {
      "accelerator": "none",
      "dataSources": [
        {
          "sourceId": 7746251,
          "sourceType": "datasetVersion",
          "datasetId": 1041311
        }
      ],
      "dockerImageVersionId": 30732,
      "isInternetEnabled": true,
      "language": "python",
      "sourceType": "notebook",
      "isGpuEnabled": false
    },
    "colab": {
      "name": "Google_Certification_Bellabeat Capstone",
      "provenance": [],
      "include_colab_link": true
    }
  },
  "nbformat_minor": 0,
  "nbformat": 4,
  "cells": [
    {
      "cell_type": "markdown",
      "metadata": {
        "id": "view-in-github",
        "colab_type": "text"
      },
      "source": [
        "<a href=\"https://colab.research.google.com/github/MenakaRajendran/PortfolioProjects/blob/main/Google_Certification_Bellabeat_Capstone.ipynb\" target=\"_parent\"><img src=\"https://colab.research.google.com/assets/colab-badge.svg\" alt=\"Open In Colab\"/></a>"
      ]
    },
    {
      "source": [
        "\n",
        "# IMPORTANT: RUN THIS CELL IN ORDER TO IMPORT YOUR KAGGLE DATA SOURCES\n",
        "# TO THE CORRECT LOCATION (/kaggle/input) IN YOUR NOTEBOOK,\n",
        "# THEN FEEL FREE TO DELETE THIS CELL.\n",
        "# NOTE: THIS NOTEBOOK ENVIRONMENT DIFFERS FROM KAGGLE'S PYTHON\n",
        "# ENVIRONMENT SO THERE MAY BE MISSING LIBRARIES USED BY YOUR\n",
        "# NOTEBOOK.\n",
        "\n",
        "import os\n",
        "import sys\n",
        "from tempfile import NamedTemporaryFile\n",
        "from urllib.request import urlopen\n",
        "from urllib.parse import unquote, urlparse\n",
        "from urllib.error import HTTPError\n",
        "from zipfile import ZipFile\n",
        "import tarfile\n",
        "import shutil\n",
        "\n",
        "CHUNK_SIZE = 40960\n",
        "DATA_SOURCE_MAPPING = 'fitbit:https%3A%2F%2Fstorage.googleapis.com%2Fkaggle-data-sets%2F1041311%2F7746251%2Fbundle%2Farchive.zip%3FX-Goog-Algorithm%3DGOOG4-RSA-SHA256%26X-Goog-Credential%3Dgcp-kaggle-com%2540kaggle-161607.iam.gserviceaccount.com%252F20240607%252Fauto%252Fstorage%252Fgoog4_request%26X-Goog-Date%3D20240607T021251Z%26X-Goog-Expires%3D259200%26X-Goog-SignedHeaders%3Dhost%26X-Goog-Signature%3D81619c549c727af01742b1da2a2d3b9ebeb1cee00ed3f9155644fdca0b0d35b5d83c7bdcc35b3f0a98381908ec7e8784123bfbfc716d51f52a36a958ea8e55321df9dedb938b29f66937c06f47ba443646096b8e45048a9b9faeb7fd67140b3486bc008334ffe0a870aa8518f216b309bdcff176ef171070a77be2425975f33f39b5d8b124d6afa7c282252ca6e9ae83b063a5b049e41fed6517b8fef5474fdb280713eb826a908f39467135da66a663b403f58ad6722a0ceaeb568cb39c0e4d7f782b75597279736f5b1933568e929083cbf7afd0f4f3cd8daf42710cb0377d473ea1e035a2b52d6a94aefceb3a27b795986495648884e96e756bfeb6042cd6'\n",
        "\n",
        "KAGGLE_INPUT_PATH='/kaggle/input'\n",
        "KAGGLE_WORKING_PATH='/kaggle/working'\n",
        "KAGGLE_SYMLINK='kaggle'\n",
        "\n",
        "!umount /kaggle/input/ 2> /dev/null\n",
        "shutil.rmtree('/kaggle/input', ignore_errors=True)\n",
        "os.makedirs(KAGGLE_INPUT_PATH, 0o777, exist_ok=True)\n",
        "os.makedirs(KAGGLE_WORKING_PATH, 0o777, exist_ok=True)\n",
        "\n",
        "try:\n",
        "  os.symlink(KAGGLE_INPUT_PATH, os.path.join(\"..\", 'input'), target_is_directory=True)\n",
        "except FileExistsError:\n",
        "  pass\n",
        "try:\n",
        "  os.symlink(KAGGLE_WORKING_PATH, os.path.join(\"..\", 'working'), target_is_directory=True)\n",
        "except FileExistsError:\n",
        "  pass\n",
        "\n",
        "for data_source_mapping in DATA_SOURCE_MAPPING.split(','):\n",
        "    directory, download_url_encoded = data_source_mapping.split(':')\n",
        "    download_url = unquote(download_url_encoded)\n",
        "    filename = urlparse(download_url).path\n",
        "    destination_path = os.path.join(KAGGLE_INPUT_PATH, directory)\n",
        "    try:\n",
        "        with urlopen(download_url) as fileres, NamedTemporaryFile() as tfile:\n",
        "            total_length = fileres.headers['content-length']\n",
        "            print(f'Downloading {directory}, {total_length} bytes compressed')\n",
        "            dl = 0\n",
        "            data = fileres.read(CHUNK_SIZE)\n",
        "            while len(data) > 0:\n",
        "                dl += len(data)\n",
        "                tfile.write(data)\n",
        "                done = int(50 * dl / int(total_length))\n",
        "                sys.stdout.write(f\"\\r[{'=' * done}{' ' * (50-done)}] {dl} bytes downloaded\")\n",
        "                sys.stdout.flush()\n",
        "                data = fileres.read(CHUNK_SIZE)\n",
        "            if filename.endswith('.zip'):\n",
        "              with ZipFile(tfile) as zfile:\n",
        "                zfile.extractall(destination_path)\n",
        "            else:\n",
        "              with tarfile.open(tfile.name) as tarfile:\n",
        "                tarfile.extractall(destination_path)\n",
        "            print(f'\\nDownloaded and uncompressed: {directory}')\n",
        "    except HTTPError as e:\n",
        "        print(f'Failed to load (likely expired) {download_url} to path {destination_path}')\n",
        "        continue\n",
        "    except OSError as e:\n",
        "        print(f'Failed to load {download_url} to path {destination_path}')\n",
        "        continue\n",
        "\n",
        "print('Data source import complete.')\n"
      ],
      "metadata": {
        "id": "hfbf64GPeGqZ"
      },
      "cell_type": "code",
      "outputs": [],
      "execution_count": null
    },
    {
      "cell_type": "code",
      "source": [
        "# This Python 3 environment comes with many helpful analytics libraries installed\n",
        "# It is defined by the kaggle/python Docker image: https://github.com/kaggle/docker-python\n",
        "# For example, here's several helpful packages to load\n",
        "\n",
        "import numpy as np # linear algebra\n",
        "import pandas as pd # data processing, CSV file I/O (e.g. pd.read_csv)\n",
        "\n",
        "# Input data files are available in the read-only \"../input/\" directory\n",
        "# For example, running this (by clicking run or pressing Shift+Enter) will list all files under the input directory\n",
        "\n",
        "import os\n",
        "for dirname, _, filenames in os.walk('/kaggle/input'):\n",
        "    for filename in filenames:\n",
        "        print(os.path.join(dirname, filename))\n",
        "\n",
        "# You can write up to 20GB to the current directory (/kaggle/working/) that gets preserved as output when you create a version using \"Save & Run All\"\n",
        "# You can also write temporary files to /kaggle/temp/, but they won't be saved outside of the current session"
      ],
      "metadata": {
        "_uuid": "8f2839f25d086af736a60e9eeb907d3b93b6e0e5",
        "_cell_guid": "b1076dfc-b9ad-4769-8c92-a6c4dae69d19",
        "execution": {
          "iopub.status.busy": "2024-06-06T23:07:20.558945Z",
          "iopub.execute_input": "2024-06-06T23:07:20.559366Z",
          "iopub.status.idle": "2024-06-06T23:07:21.787984Z",
          "shell.execute_reply.started": "2024-06-06T23:07:20.559334Z",
          "shell.execute_reply": "2024-06-06T23:07:21.786733Z"
        },
        "trusted": true,
        "id": "UFeOJ7rXeGqg",
        "outputId": "b5e97c5e-2f60-4bf6-c2e8-b0ce6b0a356b"
      },
      "execution_count": null,
      "outputs": [
        {
          "name": "stdout",
          "text": "/kaggle/input/fitbit/mturkfitbit_export_3.12.16-4.11.16/Fitabase Data 3.12.16-4.11.16/minuteCaloriesNarrow_merged.csv\n/kaggle/input/fitbit/mturkfitbit_export_3.12.16-4.11.16/Fitabase Data 3.12.16-4.11.16/weightLogInfo_merged.csv\n/kaggle/input/fitbit/mturkfitbit_export_3.12.16-4.11.16/Fitabase Data 3.12.16-4.11.16/minuteMETsNarrow_merged.csv\n/kaggle/input/fitbit/mturkfitbit_export_3.12.16-4.11.16/Fitabase Data 3.12.16-4.11.16/hourlyCalories_merged.csv\n/kaggle/input/fitbit/mturkfitbit_export_3.12.16-4.11.16/Fitabase Data 3.12.16-4.11.16/heartrate_seconds_merged.csv\n/kaggle/input/fitbit/mturkfitbit_export_3.12.16-4.11.16/Fitabase Data 3.12.16-4.11.16/minuteSleep_merged.csv\n/kaggle/input/fitbit/mturkfitbit_export_3.12.16-4.11.16/Fitabase Data 3.12.16-4.11.16/hourlyIntensities_merged.csv\n/kaggle/input/fitbit/mturkfitbit_export_3.12.16-4.11.16/Fitabase Data 3.12.16-4.11.16/hourlySteps_merged.csv\n/kaggle/input/fitbit/mturkfitbit_export_3.12.16-4.11.16/Fitabase Data 3.12.16-4.11.16/minuteStepsNarrow_merged.csv\n/kaggle/input/fitbit/mturkfitbit_export_3.12.16-4.11.16/Fitabase Data 3.12.16-4.11.16/minuteIntensitiesNarrow_merged.csv\n/kaggle/input/fitbit/mturkfitbit_export_3.12.16-4.11.16/Fitabase Data 3.12.16-4.11.16/dailyActivity_merged.csv\n/kaggle/input/fitbit/mturkfitbit_export_4.12.16-5.12.16/Fitabase Data 4.12.16-5.12.16/minuteCaloriesNarrow_merged.csv\n/kaggle/input/fitbit/mturkfitbit_export_4.12.16-5.12.16/Fitabase Data 4.12.16-5.12.16/weightLogInfo_merged.csv\n/kaggle/input/fitbit/mturkfitbit_export_4.12.16-5.12.16/Fitabase Data 4.12.16-5.12.16/sleepDay_merged.csv\n/kaggle/input/fitbit/mturkfitbit_export_4.12.16-5.12.16/Fitabase Data 4.12.16-5.12.16/dailyIntensities_merged.csv\n/kaggle/input/fitbit/mturkfitbit_export_4.12.16-5.12.16/Fitabase Data 4.12.16-5.12.16/minuteIntensitiesWide_merged.csv\n/kaggle/input/fitbit/mturkfitbit_export_4.12.16-5.12.16/Fitabase Data 4.12.16-5.12.16/minuteMETsNarrow_merged.csv\n/kaggle/input/fitbit/mturkfitbit_export_4.12.16-5.12.16/Fitabase Data 4.12.16-5.12.16/dailyCalories_merged.csv\n/kaggle/input/fitbit/mturkfitbit_export_4.12.16-5.12.16/Fitabase Data 4.12.16-5.12.16/hourlyCalories_merged.csv\n/kaggle/input/fitbit/mturkfitbit_export_4.12.16-5.12.16/Fitabase Data 4.12.16-5.12.16/heartrate_seconds_merged.csv\n/kaggle/input/fitbit/mturkfitbit_export_4.12.16-5.12.16/Fitabase Data 4.12.16-5.12.16/minuteSleep_merged.csv\n/kaggle/input/fitbit/mturkfitbit_export_4.12.16-5.12.16/Fitabase Data 4.12.16-5.12.16/hourlyIntensities_merged.csv\n/kaggle/input/fitbit/mturkfitbit_export_4.12.16-5.12.16/Fitabase Data 4.12.16-5.12.16/hourlySteps_merged.csv\n/kaggle/input/fitbit/mturkfitbit_export_4.12.16-5.12.16/Fitabase Data 4.12.16-5.12.16/minuteStepsNarrow_merged.csv\n/kaggle/input/fitbit/mturkfitbit_export_4.12.16-5.12.16/Fitabase Data 4.12.16-5.12.16/dailySteps_merged.csv\n/kaggle/input/fitbit/mturkfitbit_export_4.12.16-5.12.16/Fitabase Data 4.12.16-5.12.16/minuteStepsWide_merged.csv\n/kaggle/input/fitbit/mturkfitbit_export_4.12.16-5.12.16/Fitabase Data 4.12.16-5.12.16/minuteIntensitiesNarrow_merged.csv\n/kaggle/input/fitbit/mturkfitbit_export_4.12.16-5.12.16/Fitabase Data 4.12.16-5.12.16/minuteCaloriesWide_merged.csv\n/kaggle/input/fitbit/mturkfitbit_export_4.12.16-5.12.16/Fitabase Data 4.12.16-5.12.16/dailyActivity_merged.csv\n",
          "output_type": "stream"
        }
      ]
    },
    {
      "cell_type": "markdown",
      "source": [
        "THE MISSION STATEMENT\n",
        "\n",
        "Bellabeat is a high-tech manufacturer of health-focused products for women. With the immense potential to become a larger player in the\n",
        "global smart device market, the owners Urška Sršen, cofounder and Chief Creative Officer of Bellabeat, believes that analyzing smart\n",
        "device fitness data could help unlock new growth opportunities for the company. In order to attain the same, they would like high-level recommendations for how these trends can inform Bellabeat marketing strategy.\n",
        "\n",
        "PHASE 1: ASK\n",
        "Questions for analysis:\n",
        "1. What are some trends in smart device usage?\n",
        "2. How could these trends apply to Bellabeat customers?\n",
        "3. How could these trends help influence Bellabeat marketing strategy?\n",
        "\n",
        "Key Task:\n",
        "1. Identify the business task:\n",
        "\n",
        "   *Targeting the market needs that align with the company's smart devices features.\n",
        "    Upon understanding the trends and making high level recommendations that could be alligned with the Bellsbeat marketing strategy.\n",
        "\n",
        "2. Consider key stakeholders:\n",
        "\n",
        "   *The main stakeholders here are Urška Sršen, Bellabeat’s co-founder and Chief Creative Officer; Sando Mur, Mathematician and Bellabeat’s cofounder\n",
        "    and the rest of the Bellabeat marketing analytics team.\n",
        "\n",
        "3. Business Task:\n",
        "\n",
        "   *The business task is to determine the usage trends of Bellabeat devices in the market\n",
        "    that will impact the strategy to improve the market through data-driven decisions.\n",
        "    \n",
        "    PHASE 2: PREPARE\n",
        "\n",
        "Key Objectives:\n",
        "\n",
        "1.Data storage and Integrity:\n",
        "  * The Bellabeat data is available in the Kaggle and the usability rate is 8.75\n",
        "\n",
        "2.Credibility of the data:\n",
        "  * The fitbit Fitness tracker data is a public dataset with 100% Credibility score.It is a dataset from Thirty eligible Fitbit users consented to the submission of personal tracker data,\n",
        "including minute-level output for physical activity, heart rate, and sleep monitoring.\n",
        "\n"
      ],
      "metadata": {
        "id": "lQFVyLvZeGqi"
      }
    },
    {
      "cell_type": "code",
      "source": [
        "import numpy as np\n",
        "import pandas as pd\n",
        "import matplotlib.pyplot as plt\n",
        "import seaborn as sns\n",
        "plt.style.use('ggplot')\n",
        "import datetime as dt"
      ],
      "metadata": {
        "execution": {
          "iopub.status.busy": "2024-06-07T01:25:49.450944Z",
          "iopub.execute_input": "2024-06-07T01:25:49.451882Z",
          "iopub.status.idle": "2024-06-07T01:25:49.457225Z",
          "shell.execute_reply.started": "2024-06-07T01:25:49.451845Z",
          "shell.execute_reply": "2024-06-07T01:25:49.455969Z"
        },
        "trusted": true,
        "id": "CZRQsx4zeGql"
      },
      "execution_count": null,
      "outputs": []
    },
    {
      "cell_type": "code",
      "source": [
        "#prepare the data\n",
        "df = pd.read_csv(\"/kaggle/input/fitbit/mturkfitbit_export_4.12.16-5.12.16/Fitabase Data 4.12.16-5.12.16/dailyActivity_merged.csv\")"
      ],
      "metadata": {
        "execution": {
          "iopub.status.busy": "2024-06-07T01:20:35.036085Z",
          "iopub.execute_input": "2024-06-07T01:20:35.036464Z",
          "iopub.status.idle": "2024-06-07T01:20:35.050943Z",
          "shell.execute_reply.started": "2024-06-07T01:20:35.036431Z",
          "shell.execute_reply": "2024-06-07T01:20:35.049844Z"
        },
        "trusted": true,
        "id": "Fu6KrlrneGqm"
      },
      "execution_count": null,
      "outputs": []
    },
    {
      "cell_type": "code",
      "source": [
        "df.shape"
      ],
      "metadata": {
        "execution": {
          "iopub.status.busy": "2024-06-07T01:20:36.974413Z",
          "iopub.execute_input": "2024-06-07T01:20:36.974785Z",
          "iopub.status.idle": "2024-06-07T01:20:36.981634Z",
          "shell.execute_reply.started": "2024-06-07T01:20:36.974731Z",
          "shell.execute_reply": "2024-06-07T01:20:36.980616Z"
        },
        "trusted": true,
        "id": "Toet2blZeGqm",
        "outputId": "2fd958e5-ccd0-40fa-b3d3-55afddcbab11"
      },
      "execution_count": null,
      "outputs": [
        {
          "execution_count": 24,
          "output_type": "execute_result",
          "data": {
            "text/plain": "(940, 15)"
          },
          "metadata": {}
        }
      ]
    },
    {
      "cell_type": "code",
      "source": [
        "df.columns"
      ],
      "metadata": {
        "execution": {
          "iopub.status.busy": "2024-06-07T01:20:38.430415Z",
          "iopub.execute_input": "2024-06-07T01:20:38.431457Z",
          "iopub.status.idle": "2024-06-07T01:20:38.43819Z",
          "shell.execute_reply.started": "2024-06-07T01:20:38.431419Z",
          "shell.execute_reply": "2024-06-07T01:20:38.437127Z"
        },
        "trusted": true,
        "id": "roRsslZzeGqn",
        "outputId": "41e8bb73-ebee-4e7b-bfcd-a16257ee2c24"
      },
      "execution_count": null,
      "outputs": [
        {
          "execution_count": 25,
          "output_type": "execute_result",
          "data": {
            "text/plain": "Index(['Id', 'ActivityDate', 'TotalSteps', 'TotalDistance', 'TrackerDistance',\n       'LoggedActivitiesDistance', 'VeryActiveDistance',\n       'ModeratelyActiveDistance', 'LightActiveDistance',\n       'SedentaryActiveDistance', 'VeryActiveMinutes', 'FairlyActiveMinutes',\n       'LightlyActiveMinutes', 'SedentaryMinutes', 'Calories'],\n      dtype='object')"
          },
          "metadata": {}
        }
      ]
    },
    {
      "cell_type": "code",
      "source": [
        "df.head(10)"
      ],
      "metadata": {
        "execution": {
          "iopub.status.busy": "2024-06-07T01:20:40.897691Z",
          "iopub.execute_input": "2024-06-07T01:20:40.898689Z",
          "iopub.status.idle": "2024-06-07T01:20:40.919523Z",
          "shell.execute_reply.started": "2024-06-07T01:20:40.898653Z",
          "shell.execute_reply": "2024-06-07T01:20:40.918345Z"
        },
        "trusted": true,
        "id": "mf6D8w4weGqo",
        "outputId": "e3540aa1-2a6f-4df3-f7b1-99dcfa713246"
      },
      "execution_count": null,
      "outputs": [
        {
          "execution_count": 26,
          "output_type": "execute_result",
          "data": {
            "text/plain": "           Id ActivityDate  TotalSteps  TotalDistance  TrackerDistance  \\\n0  1503960366    4/12/2016       13162           8.50             8.50   \n1  1503960366    4/13/2016       10735           6.97             6.97   \n2  1503960366    4/14/2016       10460           6.74             6.74   \n3  1503960366    4/15/2016        9762           6.28             6.28   \n4  1503960366    4/16/2016       12669           8.16             8.16   \n5  1503960366    4/17/2016        9705           6.48             6.48   \n6  1503960366    4/18/2016       13019           8.59             8.59   \n7  1503960366    4/19/2016       15506           9.88             9.88   \n8  1503960366    4/20/2016       10544           6.68             6.68   \n9  1503960366    4/21/2016        9819           6.34             6.34   \n\n   LoggedActivitiesDistance  VeryActiveDistance  ModeratelyActiveDistance  \\\n0                       0.0                1.88                      0.55   \n1                       0.0                1.57                      0.69   \n2                       0.0                2.44                      0.40   \n3                       0.0                2.14                      1.26   \n4                       0.0                2.71                      0.41   \n5                       0.0                3.19                      0.78   \n6                       0.0                3.25                      0.64   \n7                       0.0                3.53                      1.32   \n8                       0.0                1.96                      0.48   \n9                       0.0                1.34                      0.35   \n\n   LightActiveDistance  SedentaryActiveDistance  VeryActiveMinutes  \\\n0                 6.06                      0.0                 25   \n1                 4.71                      0.0                 21   \n2                 3.91                      0.0                 30   \n3                 2.83                      0.0                 29   \n4                 5.04                      0.0                 36   \n5                 2.51                      0.0                 38   \n6                 4.71                      0.0                 42   \n7                 5.03                      0.0                 50   \n8                 4.24                      0.0                 28   \n9                 4.65                      0.0                 19   \n\n   FairlyActiveMinutes  LightlyActiveMinutes  SedentaryMinutes  Calories  \n0                   13                   328               728      1985  \n1                   19                   217               776      1797  \n2                   11                   181              1218      1776  \n3                   34                   209               726      1745  \n4                   10                   221               773      1863  \n5                   20                   164               539      1728  \n6                   16                   233              1149      1921  \n7                   31                   264               775      2035  \n8                   12                   205               818      1786  \n9                    8                   211               838      1775  ",
            "text/html": "<div>\n<style scoped>\n    .dataframe tbody tr th:only-of-type {\n        vertical-align: middle;\n    }\n\n    .dataframe tbody tr th {\n        vertical-align: top;\n    }\n\n    .dataframe thead th {\n        text-align: right;\n    }\n</style>\n<table border=\"1\" class=\"dataframe\">\n  <thead>\n    <tr style=\"text-align: right;\">\n      <th></th>\n      <th>Id</th>\n      <th>ActivityDate</th>\n      <th>TotalSteps</th>\n      <th>TotalDistance</th>\n      <th>TrackerDistance</th>\n      <th>LoggedActivitiesDistance</th>\n      <th>VeryActiveDistance</th>\n      <th>ModeratelyActiveDistance</th>\n      <th>LightActiveDistance</th>\n      <th>SedentaryActiveDistance</th>\n      <th>VeryActiveMinutes</th>\n      <th>FairlyActiveMinutes</th>\n      <th>LightlyActiveMinutes</th>\n      <th>SedentaryMinutes</th>\n      <th>Calories</th>\n    </tr>\n  </thead>\n  <tbody>\n    <tr>\n      <th>0</th>\n      <td>1503960366</td>\n      <td>4/12/2016</td>\n      <td>13162</td>\n      <td>8.50</td>\n      <td>8.50</td>\n      <td>0.0</td>\n      <td>1.88</td>\n      <td>0.55</td>\n      <td>6.06</td>\n      <td>0.0</td>\n      <td>25</td>\n      <td>13</td>\n      <td>328</td>\n      <td>728</td>\n      <td>1985</td>\n    </tr>\n    <tr>\n      <th>1</th>\n      <td>1503960366</td>\n      <td>4/13/2016</td>\n      <td>10735</td>\n      <td>6.97</td>\n      <td>6.97</td>\n      <td>0.0</td>\n      <td>1.57</td>\n      <td>0.69</td>\n      <td>4.71</td>\n      <td>0.0</td>\n      <td>21</td>\n      <td>19</td>\n      <td>217</td>\n      <td>776</td>\n      <td>1797</td>\n    </tr>\n    <tr>\n      <th>2</th>\n      <td>1503960366</td>\n      <td>4/14/2016</td>\n      <td>10460</td>\n      <td>6.74</td>\n      <td>6.74</td>\n      <td>0.0</td>\n      <td>2.44</td>\n      <td>0.40</td>\n      <td>3.91</td>\n      <td>0.0</td>\n      <td>30</td>\n      <td>11</td>\n      <td>181</td>\n      <td>1218</td>\n      <td>1776</td>\n    </tr>\n    <tr>\n      <th>3</th>\n      <td>1503960366</td>\n      <td>4/15/2016</td>\n      <td>9762</td>\n      <td>6.28</td>\n      <td>6.28</td>\n      <td>0.0</td>\n      <td>2.14</td>\n      <td>1.26</td>\n      <td>2.83</td>\n      <td>0.0</td>\n      <td>29</td>\n      <td>34</td>\n      <td>209</td>\n      <td>726</td>\n      <td>1745</td>\n    </tr>\n    <tr>\n      <th>4</th>\n      <td>1503960366</td>\n      <td>4/16/2016</td>\n      <td>12669</td>\n      <td>8.16</td>\n      <td>8.16</td>\n      <td>0.0</td>\n      <td>2.71</td>\n      <td>0.41</td>\n      <td>5.04</td>\n      <td>0.0</td>\n      <td>36</td>\n      <td>10</td>\n      <td>221</td>\n      <td>773</td>\n      <td>1863</td>\n    </tr>\n    <tr>\n      <th>5</th>\n      <td>1503960366</td>\n      <td>4/17/2016</td>\n      <td>9705</td>\n      <td>6.48</td>\n      <td>6.48</td>\n      <td>0.0</td>\n      <td>3.19</td>\n      <td>0.78</td>\n      <td>2.51</td>\n      <td>0.0</td>\n      <td>38</td>\n      <td>20</td>\n      <td>164</td>\n      <td>539</td>\n      <td>1728</td>\n    </tr>\n    <tr>\n      <th>6</th>\n      <td>1503960366</td>\n      <td>4/18/2016</td>\n      <td>13019</td>\n      <td>8.59</td>\n      <td>8.59</td>\n      <td>0.0</td>\n      <td>3.25</td>\n      <td>0.64</td>\n      <td>4.71</td>\n      <td>0.0</td>\n      <td>42</td>\n      <td>16</td>\n      <td>233</td>\n      <td>1149</td>\n      <td>1921</td>\n    </tr>\n    <tr>\n      <th>7</th>\n      <td>1503960366</td>\n      <td>4/19/2016</td>\n      <td>15506</td>\n      <td>9.88</td>\n      <td>9.88</td>\n      <td>0.0</td>\n      <td>3.53</td>\n      <td>1.32</td>\n      <td>5.03</td>\n      <td>0.0</td>\n      <td>50</td>\n      <td>31</td>\n      <td>264</td>\n      <td>775</td>\n      <td>2035</td>\n    </tr>\n    <tr>\n      <th>8</th>\n      <td>1503960366</td>\n      <td>4/20/2016</td>\n      <td>10544</td>\n      <td>6.68</td>\n      <td>6.68</td>\n      <td>0.0</td>\n      <td>1.96</td>\n      <td>0.48</td>\n      <td>4.24</td>\n      <td>0.0</td>\n      <td>28</td>\n      <td>12</td>\n      <td>205</td>\n      <td>818</td>\n      <td>1786</td>\n    </tr>\n    <tr>\n      <th>9</th>\n      <td>1503960366</td>\n      <td>4/21/2016</td>\n      <td>9819</td>\n      <td>6.34</td>\n      <td>6.34</td>\n      <td>0.0</td>\n      <td>1.34</td>\n      <td>0.35</td>\n      <td>4.65</td>\n      <td>0.0</td>\n      <td>19</td>\n      <td>8</td>\n      <td>211</td>\n      <td>838</td>\n      <td>1775</td>\n    </tr>\n  </tbody>\n</table>\n</div>"
          },
          "metadata": {}
        }
      ]
    },
    {
      "cell_type": "code",
      "source": [
        "df.dtypes"
      ],
      "metadata": {
        "execution": {
          "iopub.status.busy": "2024-06-07T01:20:42.749387Z",
          "iopub.execute_input": "2024-06-07T01:20:42.749777Z",
          "iopub.status.idle": "2024-06-07T01:20:42.757816Z",
          "shell.execute_reply.started": "2024-06-07T01:20:42.749722Z",
          "shell.execute_reply": "2024-06-07T01:20:42.756797Z"
        },
        "trusted": true,
        "id": "e5mK2APteGqp",
        "outputId": "f8e29aed-62cd-4b88-dfed-7ee8e194344e"
      },
      "execution_count": null,
      "outputs": [
        {
          "execution_count": 27,
          "output_type": "execute_result",
          "data": {
            "text/plain": "Id                            int64\nActivityDate                 object\nTotalSteps                    int64\nTotalDistance               float64\nTrackerDistance             float64\nLoggedActivitiesDistance    float64\nVeryActiveDistance          float64\nModeratelyActiveDistance    float64\nLightActiveDistance         float64\nSedentaryActiveDistance     float64\nVeryActiveMinutes             int64\nFairlyActiveMinutes           int64\nLightlyActiveMinutes          int64\nSedentaryMinutes              int64\nCalories                      int64\ndtype: object"
          },
          "metadata": {}
        }
      ]
    },
    {
      "cell_type": "code",
      "source": [
        "#clean the data\n",
        "df['Id']= df['Id'].astype(str)\n",
        "df['ActivityDate'] = pd.to_datetime(df['ActivityDate'],format='%m/%d/%Y')\n",
        "df.dtypes"
      ],
      "metadata": {
        "execution": {
          "iopub.status.busy": "2024-06-07T01:20:44.99326Z",
          "iopub.execute_input": "2024-06-07T01:20:44.99373Z",
          "iopub.status.idle": "2024-06-07T01:20:45.008785Z",
          "shell.execute_reply.started": "2024-06-07T01:20:44.99369Z",
          "shell.execute_reply": "2024-06-07T01:20:45.007464Z"
        },
        "trusted": true,
        "id": "TxGRSdDMeGqq",
        "outputId": "f49102c6-9c7d-4abb-8613-c483dfaf5cf5"
      },
      "execution_count": null,
      "outputs": [
        {
          "execution_count": 28,
          "output_type": "execute_result",
          "data": {
            "text/plain": "Id                                  object\nActivityDate                datetime64[ns]\nTotalSteps                           int64\nTotalDistance                      float64\nTrackerDistance                    float64\nLoggedActivitiesDistance           float64\nVeryActiveDistance                 float64\nModeratelyActiveDistance           float64\nLightActiveDistance                float64\nSedentaryActiveDistance            float64\nVeryActiveMinutes                    int64\nFairlyActiveMinutes                  int64\nLightlyActiveMinutes                 int64\nSedentaryMinutes                     int64\nCalories                             int64\ndtype: object"
          },
          "metadata": {}
        }
      ]
    },
    {
      "cell_type": "code",
      "source": [
        "# We create a new column, adding up the \"ActiveDistance\" columns to see if it's equal to the 'TotalDistance' column, or the 'TrackerDistance' column\n",
        "df['sum_distance'] = df['VeryActiveDistance'] + df['ModeratelyActiveDistance'] + df['LightActiveDistance'] + df['SedentaryActiveDistance']\n",
        "\n",
        "# We also notice that 'LoggedActivitiesDistance' have 0.0 in value in most entries, but we filter to find where has more than 0\n",
        "df.loc[(df['LoggedActivitiesDistance'] > 0),['TotalDistance','TrackerDistance','LoggedActivitiesDistance','sum_distance']]\n",
        "\n"
      ],
      "metadata": {
        "execution": {
          "iopub.status.busy": "2024-06-07T01:20:47.17371Z",
          "iopub.execute_input": "2024-06-07T01:20:47.174783Z",
          "iopub.status.idle": "2024-06-07T01:20:47.205179Z",
          "shell.execute_reply.started": "2024-06-07T01:20:47.174717Z",
          "shell.execute_reply": "2024-06-07T01:20:47.203804Z"
        },
        "trusted": true,
        "id": "-J3mHnLzeGqq",
        "outputId": "b9446def-10ca-443a-bb76-e86827d19723"
      },
      "execution_count": null,
      "outputs": [
        {
          "execution_count": 29,
          "output_type": "execute_result",
          "data": {
            "text/plain": "     TotalDistance  TrackerDistance  LoggedActivitiesDistance  sum_distance\n668           5.27             5.27                  1.959596          5.08\n689           9.71             7.88                  4.081692          9.71\n693           9.27             9.08                  2.785175          9.26\n707           8.72             8.68                  3.167822          8.73\n711          10.29             9.48                  4.869783         10.29\n712           9.65             8.60                  4.851307          9.65\n713           8.24             7.48                  3.285415          8.25\n717          10.98             9.91                  4.930550         10.98\n718          10.48             9.50                  4.942142         10.48\n719          11.31            10.41                  4.924841         11.32\n724          13.34            12.20                  4.861792         13.35\n726          10.22             9.06                  4.885605         10.22\n728          14.30            13.42                  4.911146         14.31\n731           9.18             8.72                  2.832326          9.17\n732          10.87             9.71                  4.912368         10.86\n734          11.10            10.04                  4.878232         11.10\n818           6.05             6.05                  2.253081          6.04\n819           9.82             9.82                  2.092147          9.82\n820          10.56            10.56                  2.253081         10.56\n824          10.81            10.81                  2.092147         10.81\n825          10.36            10.36                  2.253081         10.36\n826           7.44             7.44                  2.092147          7.45\n827          12.01            12.01                  2.253081         12.01\n828           9.67             9.67                  2.092147          9.68\n831           9.84             9.84                  2.092147          9.84\n838           4.81             4.81                  2.092147          4.81\n839           6.91             6.91                  2.253081          6.90\n841           6.79             6.79                  2.253081          6.79\n842           5.59             5.59                  2.092147          5.58\n845           6.65             6.65                  2.092147          6.65\n846           5.22             5.22                  2.253081          5.22\n847           7.25             7.25                  2.092147          7.25",
            "text/html": "<div>\n<style scoped>\n    .dataframe tbody tr th:only-of-type {\n        vertical-align: middle;\n    }\n\n    .dataframe tbody tr th {\n        vertical-align: top;\n    }\n\n    .dataframe thead th {\n        text-align: right;\n    }\n</style>\n<table border=\"1\" class=\"dataframe\">\n  <thead>\n    <tr style=\"text-align: right;\">\n      <th></th>\n      <th>TotalDistance</th>\n      <th>TrackerDistance</th>\n      <th>LoggedActivitiesDistance</th>\n      <th>sum_distance</th>\n    </tr>\n  </thead>\n  <tbody>\n    <tr>\n      <th>668</th>\n      <td>5.27</td>\n      <td>5.27</td>\n      <td>1.959596</td>\n      <td>5.08</td>\n    </tr>\n    <tr>\n      <th>689</th>\n      <td>9.71</td>\n      <td>7.88</td>\n      <td>4.081692</td>\n      <td>9.71</td>\n    </tr>\n    <tr>\n      <th>693</th>\n      <td>9.27</td>\n      <td>9.08</td>\n      <td>2.785175</td>\n      <td>9.26</td>\n    </tr>\n    <tr>\n      <th>707</th>\n      <td>8.72</td>\n      <td>8.68</td>\n      <td>3.167822</td>\n      <td>8.73</td>\n    </tr>\n    <tr>\n      <th>711</th>\n      <td>10.29</td>\n      <td>9.48</td>\n      <td>4.869783</td>\n      <td>10.29</td>\n    </tr>\n    <tr>\n      <th>712</th>\n      <td>9.65</td>\n      <td>8.60</td>\n      <td>4.851307</td>\n      <td>9.65</td>\n    </tr>\n    <tr>\n      <th>713</th>\n      <td>8.24</td>\n      <td>7.48</td>\n      <td>3.285415</td>\n      <td>8.25</td>\n    </tr>\n    <tr>\n      <th>717</th>\n      <td>10.98</td>\n      <td>9.91</td>\n      <td>4.930550</td>\n      <td>10.98</td>\n    </tr>\n    <tr>\n      <th>718</th>\n      <td>10.48</td>\n      <td>9.50</td>\n      <td>4.942142</td>\n      <td>10.48</td>\n    </tr>\n    <tr>\n      <th>719</th>\n      <td>11.31</td>\n      <td>10.41</td>\n      <td>4.924841</td>\n      <td>11.32</td>\n    </tr>\n    <tr>\n      <th>724</th>\n      <td>13.34</td>\n      <td>12.20</td>\n      <td>4.861792</td>\n      <td>13.35</td>\n    </tr>\n    <tr>\n      <th>726</th>\n      <td>10.22</td>\n      <td>9.06</td>\n      <td>4.885605</td>\n      <td>10.22</td>\n    </tr>\n    <tr>\n      <th>728</th>\n      <td>14.30</td>\n      <td>13.42</td>\n      <td>4.911146</td>\n      <td>14.31</td>\n    </tr>\n    <tr>\n      <th>731</th>\n      <td>9.18</td>\n      <td>8.72</td>\n      <td>2.832326</td>\n      <td>9.17</td>\n    </tr>\n    <tr>\n      <th>732</th>\n      <td>10.87</td>\n      <td>9.71</td>\n      <td>4.912368</td>\n      <td>10.86</td>\n    </tr>\n    <tr>\n      <th>734</th>\n      <td>11.10</td>\n      <td>10.04</td>\n      <td>4.878232</td>\n      <td>11.10</td>\n    </tr>\n    <tr>\n      <th>818</th>\n      <td>6.05</td>\n      <td>6.05</td>\n      <td>2.253081</td>\n      <td>6.04</td>\n    </tr>\n    <tr>\n      <th>819</th>\n      <td>9.82</td>\n      <td>9.82</td>\n      <td>2.092147</td>\n      <td>9.82</td>\n    </tr>\n    <tr>\n      <th>820</th>\n      <td>10.56</td>\n      <td>10.56</td>\n      <td>2.253081</td>\n      <td>10.56</td>\n    </tr>\n    <tr>\n      <th>824</th>\n      <td>10.81</td>\n      <td>10.81</td>\n      <td>2.092147</td>\n      <td>10.81</td>\n    </tr>\n    <tr>\n      <th>825</th>\n      <td>10.36</td>\n      <td>10.36</td>\n      <td>2.253081</td>\n      <td>10.36</td>\n    </tr>\n    <tr>\n      <th>826</th>\n      <td>7.44</td>\n      <td>7.44</td>\n      <td>2.092147</td>\n      <td>7.45</td>\n    </tr>\n    <tr>\n      <th>827</th>\n      <td>12.01</td>\n      <td>12.01</td>\n      <td>2.253081</td>\n      <td>12.01</td>\n    </tr>\n    <tr>\n      <th>828</th>\n      <td>9.67</td>\n      <td>9.67</td>\n      <td>2.092147</td>\n      <td>9.68</td>\n    </tr>\n    <tr>\n      <th>831</th>\n      <td>9.84</td>\n      <td>9.84</td>\n      <td>2.092147</td>\n      <td>9.84</td>\n    </tr>\n    <tr>\n      <th>838</th>\n      <td>4.81</td>\n      <td>4.81</td>\n      <td>2.092147</td>\n      <td>4.81</td>\n    </tr>\n    <tr>\n      <th>839</th>\n      <td>6.91</td>\n      <td>6.91</td>\n      <td>2.253081</td>\n      <td>6.90</td>\n    </tr>\n    <tr>\n      <th>841</th>\n      <td>6.79</td>\n      <td>6.79</td>\n      <td>2.253081</td>\n      <td>6.79</td>\n    </tr>\n    <tr>\n      <th>842</th>\n      <td>5.59</td>\n      <td>5.59</td>\n      <td>2.092147</td>\n      <td>5.58</td>\n    </tr>\n    <tr>\n      <th>845</th>\n      <td>6.65</td>\n      <td>6.65</td>\n      <td>2.092147</td>\n      <td>6.65</td>\n    </tr>\n    <tr>\n      <th>846</th>\n      <td>5.22</td>\n      <td>5.22</td>\n      <td>2.253081</td>\n      <td>5.22</td>\n    </tr>\n    <tr>\n      <th>847</th>\n      <td>7.25</td>\n      <td>7.25</td>\n      <td>2.092147</td>\n      <td>7.25</td>\n    </tr>\n  </tbody>\n</table>\n</div>"
          },
          "metadata": {}
        }
      ]
    },
    {
      "cell_type": "code",
      "source": [
        "df['distance_diff'] = df['TotalDistance'] - df['TrackerDistance']\n",
        "df['distance_diff'].value_counts()"
      ],
      "metadata": {
        "execution": {
          "iopub.status.busy": "2024-06-07T01:20:50.327113Z",
          "iopub.execute_input": "2024-06-07T01:20:50.327505Z",
          "iopub.status.idle": "2024-06-07T01:20:50.338285Z",
          "shell.execute_reply.started": "2024-06-07T01:20:50.327467Z",
          "shell.execute_reply": "2024-06-07T01:20:50.336838Z"
        },
        "trusted": true,
        "id": "It-yWylreGqr",
        "outputId": "26ed8db0-638b-4638-c7f6-bd9ef96f6c06"
      },
      "execution_count": null,
      "outputs": [
        {
          "execution_count": 30,
          "output_type": "execute_result",
          "data": {
            "text/plain": "distance_diff\n0.000000    925\n1.830000      1\n0.190001      1\n0.040000      1\n0.810000      1\n1.049999      1\n0.760000      1\n1.070000      1\n0.980000      1\n0.900001      1\n1.140000      1\n1.160000      1\n0.880000      1\n0.460000      1\n1.160000      1\n1.060000      1\nName: count, dtype: int64"
          },
          "metadata": {}
        }
      ]
    },
    {
      "cell_type": "markdown",
      "source": [
        "The earlier results demonstrate that, although they are not always exactly equal, \"TotalDistance\" and \"TrackerDistance\" are generally the same. Additionally, we observe that a small number of entries in the 'LoggedActivitiesDistance' have a value greater than 0. Ultimately, we can observe that the total of the \"ActiveDistance\" columns equals the \"TotalDistance\" column, with the exception of a single decimal place owing to rounding up.\n",
        "\n",
        "The \"TotalDistance\" column and the \"TotalDistance\" are equal in the majority of cases (having the TotalDistance higher values), so we must now decide whether to keep all the columns or delete some. Thus, we choose to maintain \"TotalDistance.\"\n",
        "\n",
        "Regarding the \"ActiveDistance\" columns, unfortunately, we are unsure of the difference.\n"
      ],
      "metadata": {
        "id": "etK0VUmqeGqs"
      }
    },
    {
      "cell_type": "code",
      "source": [
        "df.query('distance_diff > 0.0')"
      ],
      "metadata": {
        "execution": {
          "iopub.status.busy": "2024-06-07T01:21:23.525404Z",
          "iopub.execute_input": "2024-06-07T01:21:23.525841Z",
          "iopub.status.idle": "2024-06-07T01:21:23.561297Z",
          "shell.execute_reply.started": "2024-06-07T01:21:23.525804Z",
          "shell.execute_reply": "2024-06-07T01:21:23.559949Z"
        },
        "trusted": true,
        "id": "3-JQ57fjeGqs",
        "outputId": "b1f22921-3fce-4de9-da6f-396f589e5190"
      },
      "execution_count": null,
      "outputs": [
        {
          "execution_count": 35,
          "output_type": "execute_result",
          "data": {
            "text/plain": "             Id ActivityDate  TotalSteps  TotalDistance  TrackerDistance  \\\n689  6962181067   2016-04-21       11835           9.71             7.88   \n693  6962181067   2016-04-25       13239           9.27             9.08   \n707  6962181067   2016-05-09       12342           8.72             8.68   \n711  7007744171   2016-04-12       14172          10.29             9.48   \n712  7007744171   2016-04-13       12862           9.65             8.60   \n713  7007744171   2016-04-14       11179           8.24             7.48   \n717  7007744171   2016-04-18       14816          10.98             9.91   \n718  7007744171   2016-04-19       14194          10.48             9.50   \n719  7007744171   2016-04-20       15566          11.31            10.41   \n724  7007744171   2016-04-25       18229          13.34            12.20   \n726  7007744171   2016-04-27       13541          10.22             9.06   \n728  7007744171   2016-04-29       20067          14.30            13.42   \n731  7007744171   2016-05-02       13041           9.18             8.72   \n732  7007744171   2016-05-03       14510          10.87             9.71   \n734  7007744171   2016-05-05       15010          11.10            10.04   \n\n     LoggedActivitiesDistance  VeryActiveDistance  ModeratelyActiveDistance  \\\n689                  4.081692                3.99                      2.10   \n693                  2.785175                3.02                      1.68   \n707                  3.167822                3.90                      1.18   \n711                  4.869783                4.50                      0.38   \n712                  4.851307                4.61                      0.56   \n713                  3.285415                2.95                      0.34   \n717                  4.930550                3.79                      2.12   \n718                  4.942142                4.41                      0.76   \n719                  4.924841                4.79                      0.67   \n724                  4.861792                4.31                      1.37   \n726                  4.885605                4.27                      0.66   \n728                  4.911146                4.31                      2.05   \n731                  2.832326                4.64                      0.70   \n732                  4.912368                4.48                      1.02   \n734                  4.878232                4.33                      1.29   \n\n     LightActiveDistance  SedentaryActiveDistance  VeryActiveMinutes  \\\n689                 3.51                     0.11                 53   \n693                 4.46                     0.10                 35   \n707                 3.65                     0.00                 43   \n711                 5.41                     0.00                 53   \n712                 4.48                     0.00                 56   \n713                 4.96                     0.00                 34   \n717                 5.05                     0.02                 48   \n718                 5.31                     0.00                 53   \n719                 5.86                     0.00                 60   \n724                 7.67                     0.00                 51   \n726                 5.29                     0.00                 50   \n728                 7.95                     0.00                 55   \n731                 3.83                     0.00                 64   \n732                 5.36                     0.00                 58   \n734                 5.48                     0.00                 53   \n\n     FairlyActiveMinutes  LightlyActiveMinutes  SedentaryMinutes  Calories  \\\n689                   27                   214               708      2179   \n693                   31                   282               637      2194   \n707                   21                   231               607      2105   \n711                    8                   355              1024      2937   \n712                   22                   261              1101      2742   \n713                    6                   304              1096      2668   \n717                   31                   284              1077      2832   \n718                   17                   304              1066      2812   \n719                   33                   347              1000      3096   \n724                   24                   379               986      3055   \n726                   12                   337              1041      2830   \n728                   42                   382               961      3180   \n731                   14                   250              1112      2642   \n732                   31                   330              1021      2976   \n734                   23                   317              1047      2933   \n\n     sum_distance  distance_diff  TotalMinutes  \n689          9.71       1.830000          1002  \n693          9.26       0.190001           985  \n707          8.73       0.040000           902  \n711         10.29       0.810000          1440  \n712          9.65       1.049999          1440  \n713          8.25       0.760000          1440  \n717         10.98       1.070000          1440  \n718         10.48       0.980000          1440  \n719         11.32       0.900001          1440  \n724         13.35       1.140000          1440  \n726         10.22       1.160000          1440  \n728         14.31       0.880000          1440  \n731          9.17       0.460000          1440  \n732         10.86       1.160000          1440  \n734         11.10       1.060000          1440  ",
            "text/html": "<div>\n<style scoped>\n    .dataframe tbody tr th:only-of-type {\n        vertical-align: middle;\n    }\n\n    .dataframe tbody tr th {\n        vertical-align: top;\n    }\n\n    .dataframe thead th {\n        text-align: right;\n    }\n</style>\n<table border=\"1\" class=\"dataframe\">\n  <thead>\n    <tr style=\"text-align: right;\">\n      <th></th>\n      <th>Id</th>\n      <th>ActivityDate</th>\n      <th>TotalSteps</th>\n      <th>TotalDistance</th>\n      <th>TrackerDistance</th>\n      <th>LoggedActivitiesDistance</th>\n      <th>VeryActiveDistance</th>\n      <th>ModeratelyActiveDistance</th>\n      <th>LightActiveDistance</th>\n      <th>SedentaryActiveDistance</th>\n      <th>VeryActiveMinutes</th>\n      <th>FairlyActiveMinutes</th>\n      <th>LightlyActiveMinutes</th>\n      <th>SedentaryMinutes</th>\n      <th>Calories</th>\n      <th>sum_distance</th>\n      <th>distance_diff</th>\n      <th>TotalMinutes</th>\n    </tr>\n  </thead>\n  <tbody>\n    <tr>\n      <th>689</th>\n      <td>6962181067</td>\n      <td>2016-04-21</td>\n      <td>11835</td>\n      <td>9.71</td>\n      <td>7.88</td>\n      <td>4.081692</td>\n      <td>3.99</td>\n      <td>2.10</td>\n      <td>3.51</td>\n      <td>0.11</td>\n      <td>53</td>\n      <td>27</td>\n      <td>214</td>\n      <td>708</td>\n      <td>2179</td>\n      <td>9.71</td>\n      <td>1.830000</td>\n      <td>1002</td>\n    </tr>\n    <tr>\n      <th>693</th>\n      <td>6962181067</td>\n      <td>2016-04-25</td>\n      <td>13239</td>\n      <td>9.27</td>\n      <td>9.08</td>\n      <td>2.785175</td>\n      <td>3.02</td>\n      <td>1.68</td>\n      <td>4.46</td>\n      <td>0.10</td>\n      <td>35</td>\n      <td>31</td>\n      <td>282</td>\n      <td>637</td>\n      <td>2194</td>\n      <td>9.26</td>\n      <td>0.190001</td>\n      <td>985</td>\n    </tr>\n    <tr>\n      <th>707</th>\n      <td>6962181067</td>\n      <td>2016-05-09</td>\n      <td>12342</td>\n      <td>8.72</td>\n      <td>8.68</td>\n      <td>3.167822</td>\n      <td>3.90</td>\n      <td>1.18</td>\n      <td>3.65</td>\n      <td>0.00</td>\n      <td>43</td>\n      <td>21</td>\n      <td>231</td>\n      <td>607</td>\n      <td>2105</td>\n      <td>8.73</td>\n      <td>0.040000</td>\n      <td>902</td>\n    </tr>\n    <tr>\n      <th>711</th>\n      <td>7007744171</td>\n      <td>2016-04-12</td>\n      <td>14172</td>\n      <td>10.29</td>\n      <td>9.48</td>\n      <td>4.869783</td>\n      <td>4.50</td>\n      <td>0.38</td>\n      <td>5.41</td>\n      <td>0.00</td>\n      <td>53</td>\n      <td>8</td>\n      <td>355</td>\n      <td>1024</td>\n      <td>2937</td>\n      <td>10.29</td>\n      <td>0.810000</td>\n      <td>1440</td>\n    </tr>\n    <tr>\n      <th>712</th>\n      <td>7007744171</td>\n      <td>2016-04-13</td>\n      <td>12862</td>\n      <td>9.65</td>\n      <td>8.60</td>\n      <td>4.851307</td>\n      <td>4.61</td>\n      <td>0.56</td>\n      <td>4.48</td>\n      <td>0.00</td>\n      <td>56</td>\n      <td>22</td>\n      <td>261</td>\n      <td>1101</td>\n      <td>2742</td>\n      <td>9.65</td>\n      <td>1.049999</td>\n      <td>1440</td>\n    </tr>\n    <tr>\n      <th>713</th>\n      <td>7007744171</td>\n      <td>2016-04-14</td>\n      <td>11179</td>\n      <td>8.24</td>\n      <td>7.48</td>\n      <td>3.285415</td>\n      <td>2.95</td>\n      <td>0.34</td>\n      <td>4.96</td>\n      <td>0.00</td>\n      <td>34</td>\n      <td>6</td>\n      <td>304</td>\n      <td>1096</td>\n      <td>2668</td>\n      <td>8.25</td>\n      <td>0.760000</td>\n      <td>1440</td>\n    </tr>\n    <tr>\n      <th>717</th>\n      <td>7007744171</td>\n      <td>2016-04-18</td>\n      <td>14816</td>\n      <td>10.98</td>\n      <td>9.91</td>\n      <td>4.930550</td>\n      <td>3.79</td>\n      <td>2.12</td>\n      <td>5.05</td>\n      <td>0.02</td>\n      <td>48</td>\n      <td>31</td>\n      <td>284</td>\n      <td>1077</td>\n      <td>2832</td>\n      <td>10.98</td>\n      <td>1.070000</td>\n      <td>1440</td>\n    </tr>\n    <tr>\n      <th>718</th>\n      <td>7007744171</td>\n      <td>2016-04-19</td>\n      <td>14194</td>\n      <td>10.48</td>\n      <td>9.50</td>\n      <td>4.942142</td>\n      <td>4.41</td>\n      <td>0.76</td>\n      <td>5.31</td>\n      <td>0.00</td>\n      <td>53</td>\n      <td>17</td>\n      <td>304</td>\n      <td>1066</td>\n      <td>2812</td>\n      <td>10.48</td>\n      <td>0.980000</td>\n      <td>1440</td>\n    </tr>\n    <tr>\n      <th>719</th>\n      <td>7007744171</td>\n      <td>2016-04-20</td>\n      <td>15566</td>\n      <td>11.31</td>\n      <td>10.41</td>\n      <td>4.924841</td>\n      <td>4.79</td>\n      <td>0.67</td>\n      <td>5.86</td>\n      <td>0.00</td>\n      <td>60</td>\n      <td>33</td>\n      <td>347</td>\n      <td>1000</td>\n      <td>3096</td>\n      <td>11.32</td>\n      <td>0.900001</td>\n      <td>1440</td>\n    </tr>\n    <tr>\n      <th>724</th>\n      <td>7007744171</td>\n      <td>2016-04-25</td>\n      <td>18229</td>\n      <td>13.34</td>\n      <td>12.20</td>\n      <td>4.861792</td>\n      <td>4.31</td>\n      <td>1.37</td>\n      <td>7.67</td>\n      <td>0.00</td>\n      <td>51</td>\n      <td>24</td>\n      <td>379</td>\n      <td>986</td>\n      <td>3055</td>\n      <td>13.35</td>\n      <td>1.140000</td>\n      <td>1440</td>\n    </tr>\n    <tr>\n      <th>726</th>\n      <td>7007744171</td>\n      <td>2016-04-27</td>\n      <td>13541</td>\n      <td>10.22</td>\n      <td>9.06</td>\n      <td>4.885605</td>\n      <td>4.27</td>\n      <td>0.66</td>\n      <td>5.29</td>\n      <td>0.00</td>\n      <td>50</td>\n      <td>12</td>\n      <td>337</td>\n      <td>1041</td>\n      <td>2830</td>\n      <td>10.22</td>\n      <td>1.160000</td>\n      <td>1440</td>\n    </tr>\n    <tr>\n      <th>728</th>\n      <td>7007744171</td>\n      <td>2016-04-29</td>\n      <td>20067</td>\n      <td>14.30</td>\n      <td>13.42</td>\n      <td>4.911146</td>\n      <td>4.31</td>\n      <td>2.05</td>\n      <td>7.95</td>\n      <td>0.00</td>\n      <td>55</td>\n      <td>42</td>\n      <td>382</td>\n      <td>961</td>\n      <td>3180</td>\n      <td>14.31</td>\n      <td>0.880000</td>\n      <td>1440</td>\n    </tr>\n    <tr>\n      <th>731</th>\n      <td>7007744171</td>\n      <td>2016-05-02</td>\n      <td>13041</td>\n      <td>9.18</td>\n      <td>8.72</td>\n      <td>2.832326</td>\n      <td>4.64</td>\n      <td>0.70</td>\n      <td>3.83</td>\n      <td>0.00</td>\n      <td>64</td>\n      <td>14</td>\n      <td>250</td>\n      <td>1112</td>\n      <td>2642</td>\n      <td>9.17</td>\n      <td>0.460000</td>\n      <td>1440</td>\n    </tr>\n    <tr>\n      <th>732</th>\n      <td>7007744171</td>\n      <td>2016-05-03</td>\n      <td>14510</td>\n      <td>10.87</td>\n      <td>9.71</td>\n      <td>4.912368</td>\n      <td>4.48</td>\n      <td>1.02</td>\n      <td>5.36</td>\n      <td>0.00</td>\n      <td>58</td>\n      <td>31</td>\n      <td>330</td>\n      <td>1021</td>\n      <td>2976</td>\n      <td>10.86</td>\n      <td>1.160000</td>\n      <td>1440</td>\n    </tr>\n    <tr>\n      <th>734</th>\n      <td>7007744171</td>\n      <td>2016-05-05</td>\n      <td>15010</td>\n      <td>11.10</td>\n      <td>10.04</td>\n      <td>4.878232</td>\n      <td>4.33</td>\n      <td>1.29</td>\n      <td>5.48</td>\n      <td>0.00</td>\n      <td>53</td>\n      <td>23</td>\n      <td>317</td>\n      <td>1047</td>\n      <td>2933</td>\n      <td>11.10</td>\n      <td>1.060000</td>\n      <td>1440</td>\n    </tr>\n  </tbody>\n</table>\n</div>"
          },
          "metadata": {}
        }
      ]
    },
    {
      "cell_type": "code",
      "source": [
        "df['TotalMinutes'] = df['VeryActiveMinutes'] + df['FairlyActiveMinutes'] + df['LightlyActiveMinutes'] + df['SedentaryMinutes']\n",
        "df['TotalMinutes']"
      ],
      "metadata": {
        "execution": {
          "iopub.status.busy": "2024-06-07T01:21:39.956606Z",
          "iopub.execute_input": "2024-06-07T01:21:39.957002Z",
          "iopub.status.idle": "2024-06-07T01:21:39.967208Z",
          "shell.execute_reply.started": "2024-06-07T01:21:39.95697Z",
          "shell.execute_reply": "2024-06-07T01:21:39.966009Z"
        },
        "trusted": true,
        "id": "iPQj4gudeGqs",
        "outputId": "b03e98ee-d5dc-46e3-f68f-61794a617415"
      },
      "execution_count": null,
      "outputs": [
        {
          "execution_count": 37,
          "output_type": "execute_result",
          "data": {
            "text/plain": "0      1094\n1      1033\n2      1440\n3       998\n4      1040\n       ... \n935    1440\n936    1440\n937    1440\n938    1440\n939     931\nName: TotalMinutes, Length: 940, dtype: int64"
          },
          "metadata": {}
        }
      ]
    },
    {
      "cell_type": "markdown",
      "source": [
        "Renaming columns:\n",
        "Now, let's rename the columns with the rename function. And also we want to turn them into lower case with the function str.lower()"
      ],
      "metadata": {
        "id": "Ig5HtrCAeGqt"
      }
    },
    {
      "cell_type": "code",
      "source": [
        "df.columns = df.columns.str.lower()\n",
        "df.rename(columns = {'trackerdistance':'tracker_distance','activitydate':'activity_date','totalsteps':'total_steps','totaldistance':'total_distance',\n",
        "       'loggedactivitiesdistance':'logged_activities_distance', 'veryactivedistance':'very_active_distance',\n",
        "       'moderatelyactivedistance':'moderately_active_distance', 'lightactivedistance':'light_active_distance',\n",
        "       'sedentaryactivedistance':'sedentary_active_distance', 'veryactiveminutes':'very_active_minutes',\n",
        "       'fairlyactiveminutes':'fairly_active_minutes','lightlyactiveminutes':'lightly_active_minutes',\n",
        "       'sedentaryminutes':'sedentary_minutes'}\n",
        "         ,inplace=True) # We make the changes permanent by using inplace=True\n",
        "print('Double check the name of the columns:')\n",
        "df.columns"
      ],
      "metadata": {
        "execution": {
          "iopub.status.busy": "2024-06-07T01:22:29.254153Z",
          "iopub.execute_input": "2024-06-07T01:22:29.254575Z",
          "iopub.status.idle": "2024-06-07T01:22:29.266292Z",
          "shell.execute_reply.started": "2024-06-07T01:22:29.25454Z",
          "shell.execute_reply": "2024-06-07T01:22:29.265164Z"
        },
        "trusted": true,
        "id": "zbWAcNNaeGqt",
        "outputId": "3a7a265f-17c2-4d42-b6ee-76e6c3485bf4"
      },
      "execution_count": null,
      "outputs": [
        {
          "name": "stdout",
          "text": "Double check the name of the columns:\n",
          "output_type": "stream"
        },
        {
          "execution_count": 38,
          "output_type": "execute_result",
          "data": {
            "text/plain": "Index(['id', 'activity_date', 'total_steps', 'total_distance',\n       'tracker_distance', 'logged_activities_distance',\n       'very_active_distance', 'moderately_active_distance',\n       'light_active_distance', 'sedentary_active_distance',\n       'very_active_minutes', 'fairly_active_minutes',\n       'lightly_active_minutes', 'sedentary_minutes', 'calories',\n       'sum_distance', 'distance_diff', 'totalminutes'],\n      dtype='object')"
          },
          "metadata": {}
        }
      ]
    },
    {
      "cell_type": "code",
      "source": [
        "df.head(4)"
      ],
      "metadata": {
        "execution": {
          "iopub.status.busy": "2024-06-07T01:32:12.412387Z",
          "iopub.execute_input": "2024-06-07T01:32:12.412864Z",
          "iopub.status.idle": "2024-06-07T01:32:12.435044Z",
          "shell.execute_reply.started": "2024-06-07T01:32:12.412826Z",
          "shell.execute_reply": "2024-06-07T01:32:12.43378Z"
        },
        "trusted": true,
        "id": "Om-ZopX0eGqu",
        "outputId": "fe22d11d-d372-4550-ba54-8431ebbf6a53"
      },
      "execution_count": null,
      "outputs": [
        {
          "execution_count": 40,
          "output_type": "execute_result",
          "data": {
            "text/plain": "           id activity_date  total_steps  total_distance  tracker_distance  \\\n0  1503960366    2016-04-12        13162            8.50              8.50   \n1  1503960366    2016-04-13        10735            6.97              6.97   \n2  1503960366    2016-04-14        10460            6.74              6.74   \n3  1503960366    2016-04-15         9762            6.28              6.28   \n\n   logged_activities_distance  very_active_distance  \\\n0                         0.0                  1.88   \n1                         0.0                  1.57   \n2                         0.0                  2.44   \n3                         0.0                  2.14   \n\n   moderately_active_distance  light_active_distance  \\\n0                        0.55                   6.06   \n1                        0.69                   4.71   \n2                        0.40                   3.91   \n3                        1.26                   2.83   \n\n   sedentary_active_distance  very_active_minutes  fairly_active_minutes  \\\n0                        0.0                   25                     13   \n1                        0.0                   21                     19   \n2                        0.0                   30                     11   \n3                        0.0                   29                     34   \n\n   lightly_active_minutes  sedentary_minutes  calories  sum_distance  \\\n0                     328                728      1985          8.49   \n1                     217                776      1797          6.97   \n2                     181               1218      1776          6.75   \n3                     209                726      1745          6.23   \n\n   distance_diff  totalminutes  \n0            0.0          1094  \n1            0.0          1033  \n2            0.0          1440  \n3            0.0           998  ",
            "text/html": "<div>\n<style scoped>\n    .dataframe tbody tr th:only-of-type {\n        vertical-align: middle;\n    }\n\n    .dataframe tbody tr th {\n        vertical-align: top;\n    }\n\n    .dataframe thead th {\n        text-align: right;\n    }\n</style>\n<table border=\"1\" class=\"dataframe\">\n  <thead>\n    <tr style=\"text-align: right;\">\n      <th></th>\n      <th>id</th>\n      <th>activity_date</th>\n      <th>total_steps</th>\n      <th>total_distance</th>\n      <th>tracker_distance</th>\n      <th>logged_activities_distance</th>\n      <th>very_active_distance</th>\n      <th>moderately_active_distance</th>\n      <th>light_active_distance</th>\n      <th>sedentary_active_distance</th>\n      <th>very_active_minutes</th>\n      <th>fairly_active_minutes</th>\n      <th>lightly_active_minutes</th>\n      <th>sedentary_minutes</th>\n      <th>calories</th>\n      <th>sum_distance</th>\n      <th>distance_diff</th>\n      <th>totalminutes</th>\n    </tr>\n  </thead>\n  <tbody>\n    <tr>\n      <th>0</th>\n      <td>1503960366</td>\n      <td>2016-04-12</td>\n      <td>13162</td>\n      <td>8.50</td>\n      <td>8.50</td>\n      <td>0.0</td>\n      <td>1.88</td>\n      <td>0.55</td>\n      <td>6.06</td>\n      <td>0.0</td>\n      <td>25</td>\n      <td>13</td>\n      <td>328</td>\n      <td>728</td>\n      <td>1985</td>\n      <td>8.49</td>\n      <td>0.0</td>\n      <td>1094</td>\n    </tr>\n    <tr>\n      <th>1</th>\n      <td>1503960366</td>\n      <td>2016-04-13</td>\n      <td>10735</td>\n      <td>6.97</td>\n      <td>6.97</td>\n      <td>0.0</td>\n      <td>1.57</td>\n      <td>0.69</td>\n      <td>4.71</td>\n      <td>0.0</td>\n      <td>21</td>\n      <td>19</td>\n      <td>217</td>\n      <td>776</td>\n      <td>1797</td>\n      <td>6.97</td>\n      <td>0.0</td>\n      <td>1033</td>\n    </tr>\n    <tr>\n      <th>2</th>\n      <td>1503960366</td>\n      <td>2016-04-14</td>\n      <td>10460</td>\n      <td>6.74</td>\n      <td>6.74</td>\n      <td>0.0</td>\n      <td>2.44</td>\n      <td>0.40</td>\n      <td>3.91</td>\n      <td>0.0</td>\n      <td>30</td>\n      <td>11</td>\n      <td>181</td>\n      <td>1218</td>\n      <td>1776</td>\n      <td>6.75</td>\n      <td>0.0</td>\n      <td>1440</td>\n    </tr>\n    <tr>\n      <th>3</th>\n      <td>1503960366</td>\n      <td>2016-04-15</td>\n      <td>9762</td>\n      <td>6.28</td>\n      <td>6.28</td>\n      <td>0.0</td>\n      <td>2.14</td>\n      <td>1.26</td>\n      <td>2.83</td>\n      <td>0.0</td>\n      <td>29</td>\n      <td>34</td>\n      <td>209</td>\n      <td>726</td>\n      <td>1745</td>\n      <td>6.23</td>\n      <td>0.0</td>\n      <td>998</td>\n    </tr>\n  </tbody>\n</table>\n</div>"
          },
          "metadata": {}
        }
      ]
    },
    {
      "cell_type": "code",
      "source": [
        "df['day_of_week'] = df['activity_date'].dt.day_name()\n",
        "df['n_day_of_week'] = df['activity_date'].dt.weekday # 0 represents monday, 6 represents sunday"
      ],
      "metadata": {
        "execution": {
          "iopub.status.busy": "2024-06-07T01:35:15.051799Z",
          "iopub.execute_input": "2024-06-07T01:35:15.052203Z",
          "iopub.status.idle": "2024-06-07T01:35:15.061069Z",
          "shell.execute_reply.started": "2024-06-07T01:35:15.052168Z",
          "shell.execute_reply": "2024-06-07T01:35:15.059661Z"
        },
        "trusted": true,
        "id": "Qpm3m_gLeGqu"
      },
      "execution_count": null,
      "outputs": []
    },
    {
      "cell_type": "code",
      "source": [
        "df.head(4)"
      ],
      "metadata": {
        "execution": {
          "iopub.status.busy": "2024-06-07T01:35:33.020181Z",
          "iopub.execute_input": "2024-06-07T01:35:33.020603Z",
          "iopub.status.idle": "2024-06-07T01:35:33.044007Z",
          "shell.execute_reply.started": "2024-06-07T01:35:33.020571Z",
          "shell.execute_reply": "2024-06-07T01:35:33.042717Z"
        },
        "trusted": true,
        "id": "96qyAUOweGqu",
        "outputId": "1afb2be4-ae46-4035-ff99-517f4a97a80d"
      },
      "execution_count": null,
      "outputs": [
        {
          "execution_count": 42,
          "output_type": "execute_result",
          "data": {
            "text/plain": "           id activity_date  total_steps  total_distance  tracker_distance  \\\n0  1503960366    2016-04-12        13162            8.50              8.50   \n1  1503960366    2016-04-13        10735            6.97              6.97   \n2  1503960366    2016-04-14        10460            6.74              6.74   \n3  1503960366    2016-04-15         9762            6.28              6.28   \n\n   logged_activities_distance  very_active_distance  \\\n0                         0.0                  1.88   \n1                         0.0                  1.57   \n2                         0.0                  2.44   \n3                         0.0                  2.14   \n\n   moderately_active_distance  light_active_distance  \\\n0                        0.55                   6.06   \n1                        0.69                   4.71   \n2                        0.40                   3.91   \n3                        1.26                   2.83   \n\n   sedentary_active_distance  very_active_minutes  fairly_active_minutes  \\\n0                        0.0                   25                     13   \n1                        0.0                   21                     19   \n2                        0.0                   30                     11   \n3                        0.0                   29                     34   \n\n   lightly_active_minutes  sedentary_minutes  calories  sum_distance  \\\n0                     328                728      1985          8.49   \n1                     217                776      1797          6.97   \n2                     181               1218      1776          6.75   \n3                     209                726      1745          6.23   \n\n   distance_diff  totalminutes day_of_week  n_day_of_week  \n0            0.0          1094     Tuesday              1  \n1            0.0          1033   Wednesday              2  \n2            0.0          1440    Thursday              3  \n3            0.0           998      Friday              4  ",
            "text/html": "<div>\n<style scoped>\n    .dataframe tbody tr th:only-of-type {\n        vertical-align: middle;\n    }\n\n    .dataframe tbody tr th {\n        vertical-align: top;\n    }\n\n    .dataframe thead th {\n        text-align: right;\n    }\n</style>\n<table border=\"1\" class=\"dataframe\">\n  <thead>\n    <tr style=\"text-align: right;\">\n      <th></th>\n      <th>id</th>\n      <th>activity_date</th>\n      <th>total_steps</th>\n      <th>total_distance</th>\n      <th>tracker_distance</th>\n      <th>logged_activities_distance</th>\n      <th>very_active_distance</th>\n      <th>moderately_active_distance</th>\n      <th>light_active_distance</th>\n      <th>sedentary_active_distance</th>\n      <th>very_active_minutes</th>\n      <th>fairly_active_minutes</th>\n      <th>lightly_active_minutes</th>\n      <th>sedentary_minutes</th>\n      <th>calories</th>\n      <th>sum_distance</th>\n      <th>distance_diff</th>\n      <th>totalminutes</th>\n      <th>day_of_week</th>\n      <th>n_day_of_week</th>\n    </tr>\n  </thead>\n  <tbody>\n    <tr>\n      <th>0</th>\n      <td>1503960366</td>\n      <td>2016-04-12</td>\n      <td>13162</td>\n      <td>8.50</td>\n      <td>8.50</td>\n      <td>0.0</td>\n      <td>1.88</td>\n      <td>0.55</td>\n      <td>6.06</td>\n      <td>0.0</td>\n      <td>25</td>\n      <td>13</td>\n      <td>328</td>\n      <td>728</td>\n      <td>1985</td>\n      <td>8.49</td>\n      <td>0.0</td>\n      <td>1094</td>\n      <td>Tuesday</td>\n      <td>1</td>\n    </tr>\n    <tr>\n      <th>1</th>\n      <td>1503960366</td>\n      <td>2016-04-13</td>\n      <td>10735</td>\n      <td>6.97</td>\n      <td>6.97</td>\n      <td>0.0</td>\n      <td>1.57</td>\n      <td>0.69</td>\n      <td>4.71</td>\n      <td>0.0</td>\n      <td>21</td>\n      <td>19</td>\n      <td>217</td>\n      <td>776</td>\n      <td>1797</td>\n      <td>6.97</td>\n      <td>0.0</td>\n      <td>1033</td>\n      <td>Wednesday</td>\n      <td>2</td>\n    </tr>\n    <tr>\n      <th>2</th>\n      <td>1503960366</td>\n      <td>2016-04-14</td>\n      <td>10460</td>\n      <td>6.74</td>\n      <td>6.74</td>\n      <td>0.0</td>\n      <td>2.44</td>\n      <td>0.40</td>\n      <td>3.91</td>\n      <td>0.0</td>\n      <td>30</td>\n      <td>11</td>\n      <td>181</td>\n      <td>1218</td>\n      <td>1776</td>\n      <td>6.75</td>\n      <td>0.0</td>\n      <td>1440</td>\n      <td>Thursday</td>\n      <td>3</td>\n    </tr>\n    <tr>\n      <th>3</th>\n      <td>1503960366</td>\n      <td>2016-04-15</td>\n      <td>9762</td>\n      <td>6.28</td>\n      <td>6.28</td>\n      <td>0.0</td>\n      <td>2.14</td>\n      <td>1.26</td>\n      <td>2.83</td>\n      <td>0.0</td>\n      <td>29</td>\n      <td>34</td>\n      <td>209</td>\n      <td>726</td>\n      <td>1745</td>\n      <td>6.23</td>\n      <td>0.0</td>\n      <td>998</td>\n      <td>Friday</td>\n      <td>4</td>\n    </tr>\n  </tbody>\n</table>\n</div>"
          },
          "metadata": {}
        }
      ]
    },
    {
      "cell_type": "code",
      "source": [
        "#checking null values\n",
        "print('Total number of null values are: ')\n",
        "print(df.isnull().sum())"
      ],
      "metadata": {
        "execution": {
          "iopub.status.busy": "2024-06-07T01:42:58.736664Z",
          "iopub.execute_input": "2024-06-07T01:42:58.737052Z",
          "iopub.status.idle": "2024-06-07T01:42:58.745729Z",
          "shell.execute_reply.started": "2024-06-07T01:42:58.737024Z",
          "shell.execute_reply": "2024-06-07T01:42:58.744628Z"
        },
        "trusted": true,
        "id": "8YfHJUzbeGqv",
        "outputId": "492aebf3-66c4-4896-9df9-4064c347fc74"
      },
      "execution_count": null,
      "outputs": [
        {
          "name": "stdout",
          "text": "Total number of null values are: \nid                            0\nactivity_date                 0\ntotal_steps                   0\ntotal_distance                0\ntracker_distance              0\nlogged_activities_distance    0\nvery_active_distance          0\nmoderately_active_distance    0\nlight_active_distance         0\nsedentary_active_distance     0\nvery_active_minutes           0\nfairly_active_minutes         0\nlightly_active_minutes        0\nsedentary_minutes             0\ncalories                      0\nsum_distance                  0\ndistance_diff                 0\ntotalminutes                  0\nday_of_week                   0\nn_day_of_week                 0\ndtype: int64\n",
          "output_type": "stream"
        }
      ]
    },
    {
      "cell_type": "markdown",
      "source": [
        "Checking for duplicate entries using the function duplicated().sum()"
      ],
      "metadata": {
        "id": "WZkKPTTUeGqv"
      }
    },
    {
      "cell_type": "code",
      "source": [
        "print('Total number of duplicated values are: ',df.duplicated().sum())"
      ],
      "metadata": {
        "execution": {
          "iopub.status.busy": "2024-06-07T01:41:55.757837Z",
          "iopub.execute_input": "2024-06-07T01:41:55.75825Z",
          "iopub.status.idle": "2024-06-07T01:41:55.770376Z",
          "shell.execute_reply.started": "2024-06-07T01:41:55.758218Z",
          "shell.execute_reply": "2024-06-07T01:41:55.768617Z"
        },
        "trusted": true,
        "id": "vXKBHuBceGqv",
        "outputId": "50175b6e-d577-41f6-99c6-266a0e66dd0e"
      },
      "execution_count": null,
      "outputs": [
        {
          "name": "stdout",
          "text": "Total number of duplicated values are:  0\n",
          "output_type": "stream"
        }
      ]
    },
    {
      "cell_type": "markdown",
      "source": [
        "There are no null values nor duplicated entries"
      ],
      "metadata": {
        "id": "yuDGbRZPeGqv"
      }
    },
    {
      "cell_type": "code",
      "source": [
        "#subset the data\n",
        "df_sub = df[['id', 'activity_date', 'total_steps', 'total_distance',\n",
        "       'very_active_minutes', 'fairly_active_minutes',\n",
        "       'lightly_active_minutes', 'sedentary_minutes', 'calories',\n",
        "       'day_of_week', 'n_day_of_week'\n",
        "        ]].copy()"
      ],
      "metadata": {
        "execution": {
          "iopub.status.busy": "2024-06-07T01:58:36.395682Z",
          "iopub.execute_input": "2024-06-07T01:58:36.396889Z",
          "iopub.status.idle": "2024-06-07T01:58:36.406448Z",
          "shell.execute_reply.started": "2024-06-07T01:58:36.396852Z",
          "shell.execute_reply": "2024-06-07T01:58:36.405315Z"
        },
        "trusted": true,
        "id": "Szr3CnH3eGqw"
      },
      "execution_count": null,
      "outputs": []
    },
    {
      "cell_type": "code",
      "source": [
        "df_sub.head(3)"
      ],
      "metadata": {
        "execution": {
          "iopub.status.busy": "2024-06-07T01:59:09.031562Z",
          "iopub.execute_input": "2024-06-07T01:59:09.032375Z",
          "iopub.status.idle": "2024-06-07T01:59:09.046872Z",
          "shell.execute_reply.started": "2024-06-07T01:59:09.032339Z",
          "shell.execute_reply": "2024-06-07T01:59:09.045635Z"
        },
        "trusted": true,
        "id": "2cNCgIeaeGqw",
        "outputId": "993f0b2a-a1a9-4a37-a9ff-bcee6176ecc9"
      },
      "execution_count": null,
      "outputs": [
        {
          "execution_count": 51,
          "output_type": "execute_result",
          "data": {
            "text/plain": "           id activity_date  total_steps  total_distance  very_active_minutes  \\\n0  1503960366    2016-04-12        13162            8.50                   25   \n1  1503960366    2016-04-13        10735            6.97                   21   \n2  1503960366    2016-04-14        10460            6.74                   30   \n\n   fairly_active_minutes  lightly_active_minutes  sedentary_minutes  calories  \\\n0                     13                     328                728      1985   \n1                     19                     217                776      1797   \n2                     11                     181               1218      1776   \n\n  day_of_week  n_day_of_week  \n0     Tuesday              1  \n1   Wednesday              2  \n2    Thursday              3  ",
            "text/html": "<div>\n<style scoped>\n    .dataframe tbody tr th:only-of-type {\n        vertical-align: middle;\n    }\n\n    .dataframe tbody tr th {\n        vertical-align: top;\n    }\n\n    .dataframe thead th {\n        text-align: right;\n    }\n</style>\n<table border=\"1\" class=\"dataframe\">\n  <thead>\n    <tr style=\"text-align: right;\">\n      <th></th>\n      <th>id</th>\n      <th>activity_date</th>\n      <th>total_steps</th>\n      <th>total_distance</th>\n      <th>very_active_minutes</th>\n      <th>fairly_active_minutes</th>\n      <th>lightly_active_minutes</th>\n      <th>sedentary_minutes</th>\n      <th>calories</th>\n      <th>day_of_week</th>\n      <th>n_day_of_week</th>\n    </tr>\n  </thead>\n  <tbody>\n    <tr>\n      <th>0</th>\n      <td>1503960366</td>\n      <td>2016-04-12</td>\n      <td>13162</td>\n      <td>8.50</td>\n      <td>25</td>\n      <td>13</td>\n      <td>328</td>\n      <td>728</td>\n      <td>1985</td>\n      <td>Tuesday</td>\n      <td>1</td>\n    </tr>\n    <tr>\n      <th>1</th>\n      <td>1503960366</td>\n      <td>2016-04-13</td>\n      <td>10735</td>\n      <td>6.97</td>\n      <td>21</td>\n      <td>19</td>\n      <td>217</td>\n      <td>776</td>\n      <td>1797</td>\n      <td>Wednesday</td>\n      <td>2</td>\n    </tr>\n    <tr>\n      <th>2</th>\n      <td>1503960366</td>\n      <td>2016-04-14</td>\n      <td>10460</td>\n      <td>6.74</td>\n      <td>30</td>\n      <td>11</td>\n      <td>181</td>\n      <td>1218</td>\n      <td>1776</td>\n      <td>Thursday</td>\n      <td>3</td>\n    </tr>\n  </tbody>\n</table>\n</div>"
          },
          "metadata": {}
        }
      ]
    },
    {
      "cell_type": "code",
      "source": [],
      "metadata": {
        "id": "XPYhn2KReGqw"
      },
      "execution_count": null,
      "outputs": []
    },
    {
      "cell_type": "code",
      "source": [],
      "metadata": {
        "id": "5gSwRy4BeGqw"
      },
      "execution_count": null,
      "outputs": []
    },
    {
      "cell_type": "code",
      "source": [],
      "metadata": {
        "id": "vjXVDiTReGqx"
      },
      "execution_count": null,
      "outputs": []
    }
  ]
}